{
 "cells": [
  {
   "cell_type": "markdown",
   "metadata": {},
   "source": [
    "# End-to-end walkthrough\n",
    "\n",
    "This walkthrough is intended to orient a new user to the Configurable Pipeline for the Analysis of Connectomes (C-PAC). This guide is not a complete reference for all of the options available in C-PAC (for all documented options, consult [Running C-PAC](http://fcp-indi.github.io/docs/user/running.html)); rather, this guide is a step-by-step tutorial for familiarizing oneself with the software.\n",
    "\n",
    "#### About the format of this guide\n",
    "\n",
    "This guide is presented in a [Jupyter notebook](https://jupyter.org/) running [bash_kernel](https://pypi.org/project/bash_kernel/). If you install Jupyter and bash_kernel on your own machine, you can download and run the cells in this notebook interactively. The outputs below the code cells are the outputs of the code in those cells.\n",
    "\n",
    "## Contents\n",
    "- [Configuration](#configuration)\n",
    "- [Local requirements](#local-requirements)\n",
    "  - [Software and environment requirements](#software-and-environment-requirements)\n",
    "  - [Data requirements](#data-requirements)"
   ]
  },
  {
   "cell_type": "markdown",
   "metadata": {},
   "source": [
    "## Configuration\n",
    "Before we run C-PAC, we need to define what we want C-PAC to run. An [interactive <span title=\"graphical user interface\">GUI</span>](https://fcp-indi.github.io/C-PAC_GUI/versions/latest/browser/#/) is available to browse and download the default pipeline configuration as a <span title=\"Yet Another Markup Language\">YAML</span> file. You can also duplicate the default pipeline, edit, and download your custom configuration file. We'll walk through the default configuration here."
   ]
  },
  {
   "cell_type": "code",
   "execution_count": null,
   "metadata": {},
   "outputs": [],
   "source": []
  }
 ],
 "metadata": {
  "kernelspec": {
   "display_name": "Bash",
   "language": "bash",
   "name": "bash"
  },
  "language_info": {
   "codemirror_mode": "shell",
   "file_extension": ".sh",
   "mimetype": "text/x-sh",
   "name": "bash"
  }
 },
 "nbformat": 4,
 "nbformat_minor": 2
}
